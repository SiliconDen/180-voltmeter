{
 "cells": [
  {
   "cell_type": "markdown",
   "metadata": {},
   "source": [
    "# LDO design and documentation\n",
    "\n",
    "To start: let's estimate some rough specs needed for the design (overestimate, honestly):\n",
    "\n",
    "- Iout ~ 1mA\n",
    "- Cout ~ 10p (estimated as 100u / 10u x 10 -- really the max bound is what matters for setting secondary(?) pole)\n",
    "- Vin ~ 3.3-6V\n",
    "- Vout = 3V\n",
    "- Vref = 0.5V\n",
    "\n",
    "Assume that we can give like 0.2 x 0.2mm to the LDO. so a max cap of 200u x 200u -> modeled as mimcap w/:\n",
    "\n",
    "- C = 80p -> might need to be higher. maybe target ~150p? and compromise on space as needed\n",
    "- R_esr ??? -- intuitively, this will be increasingly small. is it important to introduce an ESR for stability? The take is no, especially with a \"capless\" design. An extra resistance can be introduced in the miller feedback path in a multistage design\n",
    "\n",
    "A few other things to consider adding long-term:\n",
    "\n",
    "- Soft-start (avoid straining the digital core during startup bc/ inrush. although, we shouldn't expect a lot of inrush current to load things down)\n",
    "- Add a buffer to increase PSRR\n",
    "- A capless/on-chip LDO (like this one) requires extremely high gain bandwidth, with the dominant pole being set by millering the first stage (7.10/Fig 7.20, Design of PMIC)\n",
    "\n",
    "With these specs in mind, we can solve for values to estimate where the poles and zeroes land."
   ]
  },
  {
   "cell_type": "code",
   "execution_count": 2,
   "metadata": {},
   "outputs": [],
   "source": [
    "import math\n",
    "from sympy import *"
   ]
  },
  {
   "cell_type": "code",
   "execution_count": null,
   "metadata": {},
   "outputs": [
    {
     "name": "stdout",
     "output_type": "stream",
     "text": [
      "3.3 4.8\n",
      "62718.5601799775\n",
      "[(GBW/freq_pole, 5.28667745491337e-7/GBW, GBW, freq_pole)]\n",
      "1.8915749252827904e-06\n"
     ]
    }
   ],
   "source": [
    "# (7.63), assuming a buffered capacitor-less LDO with miller feedback and a compensation resistor\n",
    "# assume that we're a bit underconstrainted.\n",
    "I_passfet = 1e-3 # target 1mA\n",
    "V_th_pmos = 0.85 # roughly\n",
    "V_gs_passfet = 5-1.5 # assume driven at a 3v3 midpoint, so like 1.5V input\n",
    "V_eff_passfet = V_gs_passfet - V_th_pmos\n",
    "gm_passfet = 2*I_passfet / (V_eff_passfet) # ~ 0.7 -- checks out with OP analysis\n",
    "\n",
    "# backcalc lambda from an OP -- assume min length device = 0.55u\n",
    "_ron = 96e3\n",
    "lambda_pmos = 1 / (_ron * 10.4e-6) # suspiciously close to 1 but whatever\n",
    "rds_passfet = 1 / (lambda_pmos * I_passfet)\n",
    "\n",
    "# guess at error amplifier output resistance by assuming it's a parallel cascode struct\n",
    "# rout = gm ro^2 = u ro, where u is a device param\n",
    "# assume we're using near min-sized devices, sim to find values. calculated with 3u/min length devices\n",
    "# expect these to be around 10-100 (really ~3-4. not great but whatever.)\n",
    "u_nmos = 22e3 * 0.15e-3\n",
    "u_pmos = 96e3 * 50e-6\n",
    "print(u_nmos, u_pmos)\n",
    "r_nmos_2u = 22e3\n",
    "r_pmos_2u = 96e3\n",
    "# guess at rout for amplifier, assume cascode\n",
    "_a = r_nmos_2u * u_nmos\n",
    "_b = r_pmos_2u * u_pmos\n",
    "r_erramp_out = _a*_b / (_a+_b)\n",
    "print(r_erramp_out) # experimentally should be like 70k\n",
    "\n",
    "# eventually we want to constrain to find a GBW target -- so it's two dimensional with A2 and C_compensation\n",
    "A2, C_compensation, GBW, freq_pole = symbols('A2 C_compensation GBW freq_pole')\n",
    "\n",
    "e2 = Eq(GBW, A2 * freq_pole)\n",
    "\n",
    "# and, because things were breaking, assume that gm*rds for the passfet is roughly u_pmos\n",
    "C1 = A2 * u_pmos * C_compensation\n",
    "e1 = Eq(2*math.pi*freq_pole, 1/(r_erramp_out * C1))\n",
    "\n",
    "print(solve([e1, e2], [A2, C_compensation, GBW, freq_pole])) # gives gain in terms of c_compensation\n",
    "\n",
    "# which gives a C_comp in terms of GBW\n",
    "cc_rel = 5.2866e-7 # F / unit GBW\n",
    "\n",
    "# and working the other way, assume we have like a 1pF cap for compensation...\n",
    "cc = 1e-12\n",
    "print(cc * (1/cc_rel)) #?????? why like 1.8u for GBW. something's off."
   ]
  },
  {
   "cell_type": "code",
   "execution_count": 48,
   "metadata": {},
   "outputs": [
    {
     "data": {
      "text/plain": [
       "0.7535094339622643"
      ]
     },
     "execution_count": 48,
     "metadata": {},
     "output_type": "execute_result"
    }
   ],
   "source": [
    "gm_passfet*rds_passfet"
   ]
  }
 ],
 "metadata": {
  "kernelspec": {
   "display_name": ".venv",
   "language": "python",
   "name": "python3"
  },
  "language_info": {
   "codemirror_mode": {
    "name": "ipython",
    "version": 3
   },
   "file_extension": ".py",
   "mimetype": "text/x-python",
   "name": "python",
   "nbconvert_exporter": "python",
   "pygments_lexer": "ipython3",
   "version": "3.11.13"
  }
 },
 "nbformat": 4,
 "nbformat_minor": 2
}
